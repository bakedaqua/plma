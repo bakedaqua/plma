{
  "nbformat": 4,
  "nbformat_minor": 0,
  "metadata": {
    "colab": {
      "provenance": []
    },
    "kernelspec": {
      "name": "python3",
      "display_name": "Python 3"
    },
    "language_info": {
      "name": "python"
    }
  },
  "cells": [
    {
      "cell_type": "code",
      "execution_count": 29,
      "metadata": {
        "colab": {
          "base_uri": "https://localhost:8080/"
        },
        "id": "ta95QWRutDV4",
        "outputId": "398d8d2e-ac93-4e61-c4f4-87a552ba3e1f"
      },
      "outputs": [
        {
          "output_type": "stream",
          "name": "stdout",
          "text": [
            "聖誕樹層數:10\n",
            "           \n",
            "          *\n",
            "         ***\n",
            "        *****\n",
            "       *******\n",
            "      *********\n",
            "     ***********\n",
            "    *************\n",
            "   ***************\n",
            "  *****************\n",
            " *******************\n",
            "         ***\n",
            "         ***\n",
            "         ***\n",
            "         ***\n",
            "         ***\n",
            "None\n"
          ]
        }
      ],
      "source": [
        "def joulu(x):\n",
        "  for a in range(x+1):\n",
        "    print(' '*(x-a),'*'*(2*a-1))\n",
        "  for b in range(5):\n",
        "    print(' '*(x-2),'***')\n",
        "print(joulu(eval(input('聖誕樹層數:'))))"
      ]
    },
    {
      "cell_type": "code",
      "source": [
        "def BMI(x,y):\n",
        "    x = eval(x)\n",
        "    y = eval(y)\n",
        "    x /= 100\n",
        "    return y/(x**2)\n",
        "try:\n",
        "  BMI = BMI(input('身高(cm):'),input('體重(kg):'))\n",
        "  print('BMI:',BMI)\n",
        "  if BMI < 18.5 :\n",
        "    print('體位:過輕')\n",
        "  elif BMI < 24 and BMI >= 18.5 :\n",
        "    print('體位:適中')\n",
        "  elif BMI < 27 and BMI >= 24 :\n",
        "    print('體位:過重')\n",
        "  elif BMI >= 27 :\n",
        "    print('體位:肥胖')\n",
        "  else :\n",
        "    pass\n",
        "except:\n",
        "  print('輸入內容錯誤')\n"
      ],
      "metadata": {
        "colab": {
          "base_uri": "https://localhost:8080/"
        },
        "id": "pD1Fmr8B4H6m",
        "outputId": "73b7ad37-710a-4542-a4bd-9d266ec9afae"
      },
      "execution_count": 54,
      "outputs": [
        {
          "output_type": "stream",
          "name": "stdout",
          "text": [
            "身高(cm):100\n",
            "體重(kg):50\n",
            "BMI: 50.0\n",
            "體位:肥胖\n"
          ]
        }
      ]
    }
  ]
}