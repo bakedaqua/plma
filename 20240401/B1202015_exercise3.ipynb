{
  "nbformat": 4,
  "nbformat_minor": 0,
  "metadata": {
    "colab": {
      "provenance": []
    },
    "kernelspec": {
      "name": "python3",
      "display_name": "Python 3"
    },
    "language_info": {
      "name": "python"
    }
  },
  "cells": [
    {
      "cell_type": "code",
      "execution_count": 4,
      "metadata": {
        "colab": {
          "base_uri": "https://localhost:8080/"
        },
        "id": "eKJwloGLfA-q",
        "outputId": "3bc2f014-a276-41cb-a5f9-83c5290dcbe2"
      },
      "outputs": [
        {
          "output_type": "stream",
          "name": "stdout",
          "text": [
            "88.33333333333333\n",
            "{'姓名': '賴宏瑋', '性別': '男', '學號': 'M1129020'}\n",
            "95.0\n",
            "{'姓名': '許珈綺', '性別': '女', '學號': 'M1229001'}\n"
          ]
        }
      ],
      "source": [
        "import copy\n",
        "字典一 = {'姓名':'賴宏瑋','性別':'男','作業分數':[95,100,90]}\n",
        "字典二 = {'學號':'M1129020'}\n",
        "字典三 = {**字典一,**字典二}\n",
        "字典四 = copy.deepcopy(字典三)\n",
        "字典三['作業分數'][1] = 80\n",
        "字典四['姓名'] = '許珈綺'\n",
        "字典四['性別'] = '女'\n",
        "字典四['學號'] = 'M1229001'\n",
        "score1 = 字典三.pop('作業分數')\n",
        "print(sum(score1)/len(score1))\n",
        "print(字典三)\n",
        "score2 = 字典四.pop('作業分數')\n",
        "print(sum(score2)/len(score2))\n",
        "print(字典四)"
      ]
    },
    {
      "cell_type": "code",
      "source": [
        "a = [100,50,45,60,90,95,80,50]\n",
        "a.insert(0,88)\n",
        "a[2:4] = [70,50]\n",
        "a.remove(50)\n",
        "b = (a.pop(0) + a.pop(-1))\n",
        "print(a)\n",
        "print(b)"
      ],
      "metadata": {
        "colab": {
          "base_uri": "https://localhost:8080/"
        },
        "id": "H27_Yzi7jsed",
        "outputId": "aef77731-6ffe-4452-8fa5-718aa0cbabcc"
      },
      "execution_count": 15,
      "outputs": [
        {
          "output_type": "stream",
          "name": "stdout",
          "text": [
            "[100, 70, 60, 90, 95, 80]\n",
            "138\n"
          ]
        }
      ]
    },
    {
      "cell_type": "code",
      "source": [
        "a = int(347/3)\n",
        "b = 347%3\n",
        "print(a**b)"
      ],
      "metadata": {
        "colab": {
          "base_uri": "https://localhost:8080/"
        },
        "id": "ATIs8l3Qodrg",
        "outputId": "070608b4-21ca-4a64-9116-e4d94f799dbc"
      },
      "execution_count": 19,
      "outputs": [
        {
          "output_type": "stream",
          "name": "stdout",
          "text": [
            "13225\n"
          ]
        }
      ]
    }
  ]
}