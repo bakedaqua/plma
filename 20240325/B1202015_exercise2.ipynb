{
  "nbformat": 4,
  "nbformat_minor": 0,
  "metadata": {
    "colab": {
      "provenance": []
    },
    "kernelspec": {
      "name": "python3",
      "display_name": "Python 3"
    },
    "language_info": {
      "name": "python"
    }
  },
  "cells": [
    {
      "cell_type": "code",
      "execution_count": 4,
      "metadata": {
        "colab": {
          "base_uri": "https://localhost:8080/"
        },
        "id": "-khVWvfTfg8j",
        "outputId": "8363922a-ef9d-478f-e036-f2947f516122"
      },
      "outputs": [
        {
          "output_type": "stream",
          "name": "stdout",
          "text": [
            "{'姓名': '許書緯', '性別': '男', '作業分數': [100, 100, 90], '學號': 'B1202015'}\n",
            "96.66666666666667\n"
          ]
        }
      ],
      "source": [
        "a = {'姓名':'許書緯','性別':'男','作業分數':[80,95,100,90]}\n",
        "a['學號'] = 'B1202015'\n",
        "a['作業分數'][1] = 100\n",
        "del(a['作業分數'][0])\n",
        "print(a)\n",
        "print(sum(a['作業分數'])/len(a['作業分數']))"
      ]
    }
  ]
}