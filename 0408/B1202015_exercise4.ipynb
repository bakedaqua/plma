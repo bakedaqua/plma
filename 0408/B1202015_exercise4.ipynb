{
  "nbformat": 4,
  "nbformat_minor": 0,
  "metadata": {
    "colab": {
      "provenance": []
    },
    "kernelspec": {
      "name": "python3",
      "display_name": "Python 3"
    },
    "language_info": {
      "name": "python"
    }
  },
  "cells": [
    {
      "cell_type": "code",
      "execution_count": 5,
      "metadata": {
        "colab": {
          "base_uri": "https://localhost:8080/"
        },
        "id": "tWTchswAj7cL",
        "outputId": "ea85818a-983b-4d4d-b805-8a1152c02df6"
      },
      "outputs": [
        {
          "output_type": "stream",
          "name": "stdout",
          "text": [
            "height(cm)=100\n",
            "weight(kg)=50\n",
            "50.0\n",
            "肥胖\n"
          ]
        }
      ],
      "source": [
        "h = eval(input('height(cm)='))\n",
        "h /= 100\n",
        "w = eval(input('weight(kg)='))\n",
        "BMI = w/((h)**2)\n",
        "print(BMI)\n",
        "if BMI < 18.5 :\n",
        " print('過輕')\n",
        "elif BMI < 24 and BMI >= 18.5 :\n",
        " print('適中')\n",
        "elif BMI < 27 and BMI >= 24 :\n",
        " print('過重')\n",
        "else :\n",
        " print('肥胖')"
      ]
    },
    {
      "cell_type": "code",
      "source": [
        "a = float(input('請輸入第一個數字:'))\n",
        "compute = input('請輸入運算符號')\n",
        "c = float(input('請輸入第二個數字'))\n",
        "if compute == '+':\n",
        "  d = a + c\n",
        "  print(d)\n",
        "elif compute == '-':\n",
        "  d = a - c\n",
        "  print(d)\n",
        "elif compute == '*':\n",
        "  d = a * c\n",
        "  print(d)\n",
        "elif compute == '/':\n",
        "  d = a / c\n",
        "  print(d)"
      ],
      "metadata": {
        "colab": {
          "base_uri": "https://localhost:8080/"
        },
        "id": "rE-rRsvnuHBM",
        "outputId": "b090a88f-fcfc-4951-babb-278acd2c9f7c"
      },
      "execution_count": 15,
      "outputs": [
        {
          "output_type": "stream",
          "name": "stdout",
          "text": [
            "請輸入第一個數字:1\n",
            "請輸入運算符號+\n",
            "請輸入第二個數字3\n",
            "4.0\n"
          ]
        }
      ]
    },
    {
      "cell_type": "code",
      "source": [
        "Arithmetic = input()\n",
        "plus = Arithmetic.split(\"+\")\n",
        "minus = Arithmetic.split(\"-\")\n",
        "times = Arithmetic.split(\"*\")\n",
        "over = Arithmetic.split(\"/\")\n",
        "if len(plus) > 1 :\n",
        " print(int(plus[0]) + int(plus[1]))\n",
        "elif len(minus) > 1 :\n",
        " print(int(minus[0]) - int(minus[1]))\n",
        "elif len(times) > 1 :\n",
        " print(int(times[0]) * int(times[1]))\n",
        "elif len(over) > 1 :\n",
        " print(int(over[0]) / int(over[1]))"
      ],
      "metadata": {
        "colab": {
          "base_uri": "https://localhost:8080/"
        },
        "id": "7pGsQsBdomnQ",
        "outputId": "4f9dceb8-0e2b-4e91-f314-215913d98f12"
      },
      "execution_count": 14,
      "outputs": [
        {
          "output_type": "stream",
          "name": "stdout",
          "text": [
            "11/3\n",
            "3.6666666666666665\n"
          ]
        }
      ]
    }
  ]
}