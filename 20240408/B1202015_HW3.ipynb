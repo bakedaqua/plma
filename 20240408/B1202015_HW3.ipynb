{
  "nbformat": 4,
  "nbformat_minor": 0,
  "metadata": {
    "colab": {
      "provenance": []
    },
    "kernelspec": {
      "name": "python3",
      "display_name": "Python 3"
    },
    "language_info": {
      "name": "python"
    }
  },
  "cells": [
    {
      "cell_type": "code",
      "execution_count": 9,
      "metadata": {
        "id": "1W5F47w55qid",
        "colab": {
          "base_uri": "https://localhost:8080/"
        },
        "outputId": "3b7c30e8-4a5c-4529-cde0-b87b29f4d406"
      },
      "outputs": [
        {
          "output_type": "stream",
          "name": "stdout",
          "text": [
            "請輸入年分1581\n",
            "1581 是平年\n"
          ]
        }
      ],
      "source": [
        "year = int(input(\"請輸入年分\"))\n",
        "if (year <= 1582):\n",
        "  if year % 4 == 0:\n",
        "    print(year,\"是閏年\")\n",
        "  else:\n",
        "    print(year,\"是平年\")\n",
        "else:\n",
        "  if year % 400 == 0 or year % 4 == 0 and year % 100 != 0:\n",
        "    print(year,\"是閏年\")\n",
        "  else:\n",
        "    print(year,\"是平年\")"
      ]
    }
  ]
}